{
  "nbformat": 4,
  "nbformat_minor": 0,
  "metadata": {
    "colab": {
      "provenance": []
    },
    "kernelspec": {
      "name": "python3",
      "display_name": "Python 3"
    },
    "language_info": {
      "name": "python"
    }
  },
  "cells": [
    {
      "cell_type": "code",
      "source": [
        "from collections import defaultdict\n",
        "from typing import List, Set, Dict, Tuple\n",
        "import math\n",
        "import copy"
      ],
      "metadata": {
        "id": "70qKeAaD7g0_"
      },
      "execution_count": 1,
      "outputs": []
    },
    {
      "cell_type": "code",
      "source": [
        "class Item:\n",
        "    def __init__(self, name: str) -> None:\n",
        "        self.name = name[0].upper()\n",
        "\n",
        "    def __repr__(self) -> str:\n",
        "        return f\"Item({self.name})\"\n",
        "\n",
        "    def __eq__(self, other) -> bool:\n",
        "        return self.name == other.name\n",
        "\n",
        "    def __ne__(self, other) -> bool:\n",
        "        return not self.__eq__(other)\n",
        "\n",
        "    def __hash__(self) -> int:\n",
        "        return hash(self.name)"
      ],
      "metadata": {
        "id": "cZxE8hENJqaL"
      },
      "execution_count": 2,
      "outputs": []
    },
    {
      "cell_type": "code",
      "source": [
        "class Itemset:\n",
        "    def __init__(self, items=\"\") -> None:\n",
        "        self.items = \"\".join(sorted(set(items.upper())))\n",
        "\n",
        "    def __repr__(self) -> str:\n",
        "        return f\"Itemset({self.items})\"\n",
        "\n",
        "    def __eq__(self, other) -> bool:\n",
        "        return self.items == other.items\n",
        "\n",
        "    def __ne__(self, other) -> bool:\n",
        "        return not self.__eq__(other)\n",
        "\n",
        "    def __hash__(self) -> int:\n",
        "        return hash(self.items)\n",
        "\n",
        "    def __contains__(self, item: Item) -> bool:\n",
        "        return item.name in self.items\n",
        "\n",
        "    def __iter__(self):\n",
        "        for item in self.items:\n",
        "            yield Item(item)\n",
        "\n",
        "    def union(self, other):\n",
        "        if isinstance(other, Item):\n",
        "            self.items = Itemset(self.items + other.name).items\n",
        "        elif isinstance(other, Itemset):\n",
        "            self.items = Itemset(self.items + other.items).items\n",
        "        else:\n",
        "            raise ValueError()\n",
        "        return self"
      ],
      "metadata": {
        "id": "Kl-8s1gY7izX"
      },
      "execution_count": 3,
      "outputs": []
    },
    {
      "cell_type": "code",
      "source": [
        "def item_utility_in_transaction(item: Item, transaction: Dict[Item, int], external_utility_table: Dict[Item, int]) -> int:\n",
        "    return transaction[item] * external_utility_table[item]\n",
        "\n",
        "def itemset_utility_in_transaction(itemset: Itemset, transaction: Dict[Item, int], external_utility_table: Dict[Item, int]) -> int:\n",
        "    if all(item in transaction for item in itemset):\n",
        "        return sum(item_utility_in_transaction(item, transaction, external_utility_table) for item in itemset)\n",
        "    raise ValueError(\"Itemset not found in transaction\")\n",
        "\n",
        "def itemset_utility_in_database(itemset: Itemset, transaction_database: Dict[str, Dict[Item, int]], external_utility_table: Dict[Item, int]) -> int:\n",
        "    return sum(itemset_utility_in_transaction(itemset, transaction, external_utility_table) for transaction in transaction_database.values() if all(item in transaction for item in itemset))\n",
        "\n",
        "def transaction_utility_in_database(transaction: Dict[Item, int], external_utility_table: Dict[Item, int]) -> int:\n",
        "    return sum(item_utility_in_transaction(item, transaction, external_utility_table) for item in transaction)\n",
        "\n",
        "def database_utility(transaction_database: Dict[str, Dict[Item, int]], external_utility_table: Dict[Item, int]) -> int:\n",
        "    return sum(transaction_utility_in_database(transaction, external_utility_table) for transaction in transaction_database.values())"
      ],
      "metadata": {
        "id": "yv85QkN_Jxfa"
      },
      "execution_count": 4,
      "outputs": []
    },
    {
      "cell_type": "code",
      "source": [
        "class ULElem:\n",
        "    def __init__(self, TID=None, tns=None, item_utility=None):\n",
        "        self.TID = TID\n",
        "        self.tns = tns\n",
        "        self.item_utility = item_utility\n",
        "\n",
        "    def __repr__(self):\n",
        "        return f\"ULElem(TID={repr(self.TID)}, tns={repr(self.tns)}, item_utility={repr(self.item_utility)})\""
      ],
      "metadata": {
        "id": "wK9wKwoK7-Jg"
      },
      "execution_count": 5,
      "outputs": []
    },
    {
      "cell_type": "code",
      "source": [
        "class UTList:\n",
        "    def __init__(self, item_name: Item):\n",
        "        self.item_name = item_name\n",
        "        self.SINS = 0\n",
        "        self.sum_utility = 0\n",
        "        self.ULElems = []\n",
        "\n",
        "    def __repr__(self):\n",
        "        ulelems_repr = ',\\n    '.join(repr(ulelem) for ulelem in self.ULElems)\n",
        "        return (f\"UTList(\\n\"\n",
        "                f\"  item_name={repr(self.item_name)},\\n\"\n",
        "                f\"  SINS={self.SINS},\\n\"\n",
        "                f\"  sum_utility={self.sum_utility},\\n\"\n",
        "                f\"  ULElems=[\\n    {ulelems_repr}\\n  ]\\n\"\n",
        "                f\")\")\n",
        "\n",
        "def SINS(sensitive_item: Item, NS: Set[Itemset]) -> int:\n",
        "    SINS = sum(1 for itemset in NS if sensitive_item in itemset)\n",
        "    return SINS\n",
        "\n",
        "def tns(NS: Set[Itemset], transaction: Dict[Item, int]) -> float:\n",
        "    NSI_num = sum(1 for itemset in NS if all(item in transaction for item in itemset))\n",
        "    tns = 1 / (1 + NSI_num)\n",
        "    return round(tns, 2)"
      ],
      "metadata": {
        "id": "lJk6ACLc8Eu8"
      },
      "execution_count": 6,
      "outputs": []
    },
    {
      "cell_type": "code",
      "source": [
        "class UTLDic:\n",
        "    def __init__(self, transaction_database: Dict[str, Dict[Item, int]], external_utility_table: Dict[Item, int], S: Set[Itemset], NS: Set[Itemset], delta: int):\n",
        "        self.transaction_database = transaction_database\n",
        "        self.external_utility_table = external_utility_table\n",
        "        self.S = S\n",
        "        self.NS = NS\n",
        "        self.delta = delta\n",
        "        self.__UTLDic = self.__construct_UTLDic()\n",
        "\n",
        "    def __construct_UTLDic(self) -> Dict[Item, UTList]:\n",
        "        # Initialize SItem\n",
        "        SItem = Itemset()\n",
        "\n",
        "        # Get union of all sensitive high-utility itemsets\n",
        "        [SItem.union(itemset) for itemset in self.S]\n",
        "\n",
        "        # Initialize UTLDic\n",
        "        utldic = {}\n",
        "        for item in SItem:\n",
        "            # Initialize UTList for each item\n",
        "            UTL = UTList(item)\n",
        "\n",
        "            # Calculate SINS for each item\n",
        "            UTL.SINS = SINS(item, self.NS)\n",
        "\n",
        "            utldic[item] = UTL\n",
        "\n",
        "        # Scan database\n",
        "        for tid, transaction in self.transaction_database.items():\n",
        "            # Get set of sensitive items in the transaction\n",
        "            SI = set().union(*[itemset for itemset in S if all(item in transaction for item in itemset)])\n",
        "\n",
        "            # Construct UTList for each sensitive item\n",
        "            for item in SI:\n",
        "                ULE = ULElem()\n",
        "                ULE.TID = tid\n",
        "                ULE.item_utility = item_utility_in_transaction(item, transaction, self.external_utility_table)\n",
        "                ULE.tns = tns(self.NS, transaction)\n",
        "                utldic[item].ULElems.append(ULE)\n",
        "                utldic[item].sum_utility += ULE.item_utility\n",
        "\n",
        "        return utldic\n",
        "\n",
        "    def __repr__(self):\n",
        "        utldic_repr = ',\\n  '.join(f'{repr(item)}: {repr(utlist)}' for item, utlist in self.__UTLDic.items())\n",
        "        return f\"UTLDic(\\n  {utldic_repr}\\n)\"\n",
        "\n",
        "    def __getitem__(self, item):\n",
        "        if isinstance(item, Item):\n",
        "            return self.__UTLDic[item]\n",
        "        else:\n",
        "            raise ValueError()\n",
        "\n",
        "    def __setitem__(self, item, utlist):\n",
        "        if isinstance(item, Item) and isinstance(utlist, UTList):\n",
        "            self.__UTLDic[item] = utlist\n",
        "        else:\n",
        "            raise ValueError()\n",
        "\n",
        "    def __iter__(self):\n",
        "        return iter(self.__UTLDic.items())\n",
        "\n",
        "    def L(self, itemset: Itemset):\n",
        "        return set.intersection(*[set(elem.TID for elem in self[item].ULElems) for item in itemset])"
      ],
      "metadata": {
        "id": "G1_YIKaq8JOx"
      },
      "execution_count": 7,
      "outputs": []
    },
    {
      "cell_type": "code",
      "source": [
        "def hide_sensitive_high_utility_itemsets(utldic: UTLDic) -> UTLDic:\n",
        "        sanitized_utldic = copy.deepcopy(utldic)\n",
        "\n",
        "        # Sort S in descending order of u(Si) (Si in S)\n",
        "        S_sorted = sorted(sanitized_utldic.S, key=lambda x: itemset_utility_in_database(x, sanitized_utldic.transaction_database, sanitized_utldic.external_utility_table), reverse=True)\n",
        "\n",
        "        for Si in S_sorted:\n",
        "            # Sort Si in ascending order of SINS(item) (item in Si)\n",
        "            Si_sorted = sorted(Si, key=lambda x: sanitized_utldic[x].SINS)\n",
        "\n",
        "            # Calculate l = L(Si) according to Definition 19\n",
        "            l = sanitized_utldic.L(Si)\n",
        "\n",
        "            # Calculate target utility to be reduced\n",
        "            target_util = itemset_utility_in_database(Si, sanitized_utldic.transaction_database, sanitized_utldic.external_utility_table) - sanitized_utldic.delta + 1\n",
        "\n",
        "            while target_util > 0:\n",
        "                for item in Si_sorted:\n",
        "                    # Sort ULElems of UTlist order by tns desc and utility asc\n",
        "                    sanitized_utldic[item].ULElems.sort(key=lambda x: (-x.tns, x.item_utility))\n",
        "\n",
        "                    for elem in sanitized_utldic[item].ULElems:\n",
        "                        if (elem.TID in l) and (target_util > 0):\n",
        "                            reduced_utility = 0\n",
        "\n",
        "                            if elem.item_utility <= target_util:\n",
        "                                target_util -= elem.item_utility\n",
        "                                reduced_utility = elem.item_utility\n",
        "                                elem.item_utility = 0\n",
        "                            else:\n",
        "                                count = sanitized_utldic.transaction_database[elem.TID][item] - math.ceil(target_util / sanitized_utldic.external_utility_table[item])\n",
        "                                reduced_utility = elem.item_utility - count * sanitized_utldic.external_utility_table[item]\n",
        "                                elem.item_utility = count * sanitized_utldic.external_utility_table[item]\n",
        "                                target_util = 0\n",
        "\n",
        "                            # update utldic[item].sum_utility\n",
        "                            sanitized_utldic[item].sum_utility -= reduced_utility\n",
        "\n",
        "        return sanitized_utldic"
      ],
      "metadata": {
        "id": "WLIdEvHGFLHW"
      },
      "execution_count": 8,
      "outputs": []
    },
    {
      "cell_type": "code",
      "source": [
        "def generate_sanitized_database(sanitized_utldic: UTLDic) -> Dict[str, Dict[Item, int]]:\n",
        "    # Create a deep copy of the original database\n",
        "    sanitized_td = copy.deepcopy(sanitized_utldic.transaction_database)\n",
        "\n",
        "    # Iterate through each sensitive item in the sanitized UTLDic\n",
        "    for item, utlist in sanitized_utldic:\n",
        "        # Process each ULElem in the UTList\n",
        "        for elem in utlist.ULElems:\n",
        "            tid = elem.TID\n",
        "            modified_utility = elem.item_utility\n",
        "\n",
        "            # Calculate the new internal utility based on the modified utility\n",
        "            new_internal_utility = int(modified_utility / sanitized_utldic.external_utility_table[item])\n",
        "\n",
        "            if new_internal_utility == 0:\n",
        "                # Remove the item if its new internal utility is 0\n",
        "                del sanitized_td[tid][item]\n",
        "            else:\n",
        "                # Update the item's internal utility in the transaction\n",
        "                sanitized_td[tid][item] = new_internal_utility\n",
        "\n",
        "    # Remove empty transactions in sanitized database\n",
        "    for tid, transaction in sanitized_td.items():\n",
        "        if not transaction:\n",
        "            del sanitized_td[tid]\n",
        "\n",
        "    # Return the sanitized database\n",
        "    return sanitized_td"
      ],
      "metadata": {
        "id": "xnAfv8RmQByz"
      },
      "execution_count": 9,
      "outputs": []
    },
    {
      "cell_type": "code",
      "source": [
        "transaction_database = {\n",
        "    'T1': {Item('C'): 7, Item('D'): 1, Item('E'): 1},\n",
        "    'T2': {Item('A'): 1, Item('C'): 2, Item('E'): 2},\n",
        "    'T3': {Item('B'): 6, Item('C'): 4, Item('D'): 3, Item('E'): 7},\n",
        "    'T4': {Item('B'): 5, Item('C'): 3, Item('D'): 9},\n",
        "    'T5': {Item('A'): 3, Item('C'): 10, Item('D'): 3},\n",
        "    'T6': {Item('C'): 5, Item('E'): 9},\n",
        "    'T7': {Item('A'): 6, Item('C'): 9, Item('D'): 2, Item('E'): 5},\n",
        "    'T8': {Item('A'): 1, Item('B'): 6, Item('C'): 2, Item('D'): 5, Item('E'): 3}\n",
        "}\n",
        "\n",
        "external_utility_table = {Item('A'): 9, Item('B'): 11, Item('C'): 4, Item('D'): 6, Item('E'): 7}\n",
        "\n",
        "HUIs = {Itemset('ACDE'), Itemset('BCDE'), Itemset('BC'),\n",
        "        Itemset('ACD'), Itemset('BCE'), Itemset('CDE'),\n",
        "        Itemset('BE'), Itemset('BD'), Itemset('CE'),\n",
        "        Itemset('BDE'), Itemset('BCD'), Itemset('CD')}\n",
        "\n",
        "S = {Itemset('ACD'), Itemset('BC')}\n",
        "\n",
        "NS = HUIs - S\n",
        "\n",
        "delta = 200  # Minimum utility threshold"
      ],
      "metadata": {
        "id": "fB-Vl0BHUi4C"
      },
      "execution_count": 10,
      "outputs": []
    },
    {
      "cell_type": "markdown",
      "source": [
        "---"
      ],
      "metadata": {
        "id": "uzkzI_J7IfQO"
      }
    },
    {
      "cell_type": "markdown",
      "source": [
        "Kiểm tra độ chính xác của cột **tu** trong Table **1**"
      ],
      "metadata": {
        "id": "LefqJdLhIR0J"
      }
    },
    {
      "cell_type": "markdown",
      "source": [
        "![Table 1: A Transaction Database](https://trankhacbinh.github.io/image-repo/Table_1_A_Transaction_Database.png)"
      ],
      "metadata": {
        "id": "HR1s-LpdTboE"
      }
    },
    {
      "cell_type": "code",
      "source": [
        "{tid: transaction_utility_in_database(transaction, external_utility_table) for tid, transaction in transaction_database.items()}"
      ],
      "metadata": {
        "colab": {
          "base_uri": "https://localhost:8080/"
        },
        "id": "yxakoJ1DOJSq",
        "outputId": "142d27d9-884e-4bc4-8cd0-7487ed42feaf"
      },
      "execution_count": 11,
      "outputs": [
        {
          "output_type": "execute_result",
          "data": {
            "text/plain": [
              "{'T1': 41,\n",
              " 'T2': 31,\n",
              " 'T3': 149,\n",
              " 'T4': 121,\n",
              " 'T5': 85,\n",
              " 'T6': 83,\n",
              " 'T7': 137,\n",
              " 'T8': 134}"
            ]
          },
          "metadata": {},
          "execution_count": 11
        }
      ]
    },
    {
      "cell_type": "markdown",
      "source": [
        "---"
      ],
      "metadata": {
        "id": "iAnvOL4BWdxP"
      }
    },
    {
      "cell_type": "markdown",
      "source": [
        "Kiểm tra độ chính xác của Table **3**"
      ],
      "metadata": {
        "id": "hwhzVUuZJX3M"
      }
    },
    {
      "cell_type": "markdown",
      "source": [
        "![Table 3: HUIs Table](https://trankhacbinh.github.io/image-repo/Table_3_HUIs_Table.png)"
      ],
      "metadata": {
        "id": "Mz9dz5DXWn_9"
      }
    },
    {
      "cell_type": "code",
      "source": [
        "{itemset: itemset_utility_in_database(itemset, transaction_database, external_utility_table) for itemset in HUIs}"
      ],
      "metadata": {
        "colab": {
          "base_uri": "https://localhost:8080/"
        },
        "id": "_cKXji7RJlZ0",
        "outputId": "e0cbc21e-b1bb-4ec9-d7e6-fbdce0ccdab1"
      },
      "execution_count": 12,
      "outputs": [
        {
          "output_type": "execute_result",
          "data": {
            "text/plain": [
              "{Itemset(BCD): 325,\n",
              " Itemset(BCDE): 274,\n",
              " Itemset(BCE): 226,\n",
              " Itemset(BD): 289,\n",
              " Itemset(CDE): 266,\n",
              " Itemset(BE): 202,\n",
              " Itemset(BDE): 250,\n",
              " Itemset(ACDE): 205,\n",
              " Itemset(ACD): 234,\n",
              " Itemset(CE): 305,\n",
              " Itemset(BC): 223,\n",
              " Itemset(CD): 278}"
            ]
          },
          "metadata": {},
          "execution_count": 12
        }
      ]
    },
    {
      "cell_type": "markdown",
      "source": [
        "\n",
        "\n",
        "---\n",
        "\n"
      ],
      "metadata": {
        "id": "MThPXprRWlmH"
      }
    },
    {
      "cell_type": "markdown",
      "source": [
        "Kiểm tra độ chính xác của Figure **4**"
      ],
      "metadata": {
        "id": "VN6C-yq4KZzT"
      }
    },
    {
      "cell_type": "markdown",
      "source": [
        "![Fig 4: An example of the UTlists](https://trankhacbinh.github.io/image-repo/Fig_4_An_example_of_the_UTlists.png)"
      ],
      "metadata": {
        "id": "FC44_AfRX1Bu"
      }
    },
    {
      "cell_type": "code",
      "source": [
        "utldic = UTLDic(transaction_database, external_utility_table, S, NS, delta)\n",
        "utldic"
      ],
      "metadata": {
        "id": "yoPxfSRWUnf8",
        "colab": {
          "base_uri": "https://localhost:8080/"
        },
        "outputId": "ce0df58d-1d87-4ebe-c28a-7d19b63a0e09"
      },
      "execution_count": 13,
      "outputs": [
        {
          "output_type": "execute_result",
          "data": {
            "text/plain": [
              "UTLDic(\n",
              "  Item(A): UTList(\n",
              "  item_name=Item(A),\n",
              "  SINS=1,\n",
              "  sum_utility=90,\n",
              "  ULElems=[\n",
              "    ULElem(TID='T5', tns=0.5, item_utility=27),\n",
              "    ULElem(TID='T7', tns=0.2, item_utility=54),\n",
              "    ULElem(TID='T8', tns=0.09, item_utility=9)\n",
              "  ]\n",
              "),\n",
              "  Item(B): UTList(\n",
              "  item_name=Item(B),\n",
              "  SINS=6,\n",
              "  sum_utility=187,\n",
              "  ULElems=[\n",
              "    ULElem(TID='T3', tns=0.1, item_utility=66),\n",
              "    ULElem(TID='T4', tns=0.25, item_utility=55),\n",
              "    ULElem(TID='T8', tns=0.09, item_utility=66)\n",
              "  ]\n",
              "),\n",
              "  Item(C): UTList(\n",
              "  item_name=Item(C),\n",
              "  SINS=7,\n",
              "  sum_utility=112,\n",
              "  ULElems=[\n",
              "    ULElem(TID='T3', tns=0.1, item_utility=16),\n",
              "    ULElem(TID='T4', tns=0.25, item_utility=12),\n",
              "    ULElem(TID='T5', tns=0.5, item_utility=40),\n",
              "    ULElem(TID='T7', tns=0.2, item_utility=36),\n",
              "    ULElem(TID='T8', tns=0.09, item_utility=8)\n",
              "  ]\n",
              "),\n",
              "  Item(D): UTList(\n",
              "  item_name=Item(D),\n",
              "  SINS=7,\n",
              "  sum_utility=60,\n",
              "  ULElems=[\n",
              "    ULElem(TID='T5', tns=0.5, item_utility=18),\n",
              "    ULElem(TID='T7', tns=0.2, item_utility=12),\n",
              "    ULElem(TID='T8', tns=0.09, item_utility=30)\n",
              "  ]\n",
              ")\n",
              ")"
            ]
          },
          "metadata": {},
          "execution_count": 13
        }
      ]
    },
    {
      "cell_type": "markdown",
      "source": [
        "\n",
        "\n",
        "---\n",
        "\n"
      ],
      "metadata": {
        "id": "9vtg-TDJXy2j"
      }
    },
    {
      "cell_type": "markdown",
      "source": [
        "Kiểm tra độ chính xác của Figure **6**"
      ],
      "metadata": {
        "id": "qNXa9IwdKsMc"
      }
    },
    {
      "cell_type": "markdown",
      "source": [
        "![Fig 6: An example of the sanitized UTLDic](https://trankhacbinh.github.io/image-repo/Fig_6%20_An_example_of_the_sanitized_UTLDic.png)"
      ],
      "metadata": {
        "id": "gXPQjd-wZMjY"
      }
    },
    {
      "cell_type": "code",
      "source": [
        "sanitized_utldic = hide_sensitive_high_utility_itemsets(utldic)\n",
        "sanitized_utldic"
      ],
      "metadata": {
        "colab": {
          "base_uri": "https://localhost:8080/"
        },
        "id": "obd2WDe3KfRP",
        "outputId": "6244b8b7-d4c8-4e74-be52-e779e1b7b148"
      },
      "execution_count": 14,
      "outputs": [
        {
          "output_type": "execute_result",
          "data": {
            "text/plain": [
              "UTLDic(\n",
              "  Item(A): UTList(\n",
              "  item_name=Item(A),\n",
              "  SINS=1,\n",
              "  sum_utility=54,\n",
              "  ULElems=[\n",
              "    ULElem(TID='T5', tns=0.5, item_utility=0),\n",
              "    ULElem(TID='T7', tns=0.2, item_utility=45),\n",
              "    ULElem(TID='T8', tns=0.09, item_utility=9)\n",
              "  ]\n",
              "),\n",
              "  Item(B): UTList(\n",
              "  item_name=Item(B),\n",
              "  SINS=6,\n",
              "  sum_utility=154,\n",
              "  ULElems=[\n",
              "    ULElem(TID='T4', tns=0.25, item_utility=22),\n",
              "    ULElem(TID='T3', tns=0.1, item_utility=66),\n",
              "    ULElem(TID='T8', tns=0.09, item_utility=66)\n",
              "  ]\n",
              "),\n",
              "  Item(C): UTList(\n",
              "  item_name=Item(C),\n",
              "  SINS=7,\n",
              "  sum_utility=112,\n",
              "  ULElems=[\n",
              "    ULElem(TID='T5', tns=0.5, item_utility=40),\n",
              "    ULElem(TID='T4', tns=0.25, item_utility=12),\n",
              "    ULElem(TID='T7', tns=0.2, item_utility=36),\n",
              "    ULElem(TID='T3', tns=0.1, item_utility=16),\n",
              "    ULElem(TID='T8', tns=0.09, item_utility=8)\n",
              "  ]\n",
              "),\n",
              "  Item(D): UTList(\n",
              "  item_name=Item(D),\n",
              "  SINS=7,\n",
              "  sum_utility=60,\n",
              "  ULElems=[\n",
              "    ULElem(TID='T5', tns=0.5, item_utility=18),\n",
              "    ULElem(TID='T7', tns=0.2, item_utility=12),\n",
              "    ULElem(TID='T8', tns=0.09, item_utility=30)\n",
              "  ]\n",
              ")\n",
              ")"
            ]
          },
          "metadata": {},
          "execution_count": 14
        }
      ]
    },
    {
      "cell_type": "markdown",
      "source": [
        "\n",
        "\n",
        "---\n",
        "\n"
      ],
      "metadata": {
        "id": "RZ-PC0X6aeYp"
      }
    },
    {
      "cell_type": "code",
      "source": [
        "sanitized_td = generate_sanitized_database(sanitized_utldic)\n",
        "sanitized_td"
      ],
      "metadata": {
        "colab": {
          "base_uri": "https://localhost:8080/"
        },
        "id": "wiQLokzlDD07",
        "outputId": "cabf5858-ad07-49fe-f9ec-c23df27db297"
      },
      "execution_count": 15,
      "outputs": [
        {
          "output_type": "execute_result",
          "data": {
            "text/plain": [
              "{'T1': {Item(C): 7, Item(D): 1, Item(E): 1},\n",
              " 'T2': {Item(A): 1, Item(C): 2, Item(E): 2},\n",
              " 'T3': {Item(B): 6, Item(C): 4, Item(D): 3, Item(E): 7},\n",
              " 'T4': {Item(B): 2, Item(C): 3, Item(D): 9},\n",
              " 'T5': {Item(C): 10, Item(D): 3},\n",
              " 'T6': {Item(C): 5, Item(E): 9},\n",
              " 'T7': {Item(A): 5, Item(C): 9, Item(D): 2, Item(E): 5},\n",
              " 'T8': {Item(A): 1, Item(B): 6, Item(C): 2, Item(D): 5, Item(E): 3}}"
            ]
          },
          "metadata": {},
          "execution_count": 15
        }
      ]
    },
    {
      "cell_type": "code",
      "source": [
        "{itemset: itemset_utility_in_database(itemset, transaction_database, external_utility_table) for itemset in S}"
      ],
      "metadata": {
        "colab": {
          "base_uri": "https://localhost:8080/"
        },
        "id": "bC-5jGzFR_Z3",
        "outputId": "0d52de29-6b14-4cd4-e378-3697c468d572"
      },
      "execution_count": 16,
      "outputs": [
        {
          "output_type": "execute_result",
          "data": {
            "text/plain": [
              "{Itemset(ACD): 234, Itemset(BC): 223}"
            ]
          },
          "metadata": {},
          "execution_count": 16
        }
      ]
    },
    {
      "cell_type": "code",
      "source": [
        "{itemset: itemset_utility_in_database(itemset, sanitized_td, external_utility_table) for itemset in S}"
      ],
      "metadata": {
        "colab": {
          "base_uri": "https://localhost:8080/"
        },
        "id": "IhZ4i2hQSS3d",
        "outputId": "156e01a7-c101-4ac1-994a-958ea8238d37"
      },
      "execution_count": 17,
      "outputs": [
        {
          "output_type": "execute_result",
          "data": {
            "text/plain": [
              "{Itemset(ACD): 140, Itemset(BC): 190}"
            ]
          },
          "metadata": {},
          "execution_count": 17
        }
      ]
    },
    {
      "cell_type": "markdown",
      "source": [
        "\n",
        "\n",
        "---\n",
        "\n"
      ],
      "metadata": {
        "id": "tlDA-b9Ual46"
      }
    }
  ]
}