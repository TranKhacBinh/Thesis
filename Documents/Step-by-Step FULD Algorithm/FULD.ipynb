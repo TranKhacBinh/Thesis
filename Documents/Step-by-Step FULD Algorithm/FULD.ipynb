{
  "nbformat": 4,
  "nbformat_minor": 0,
  "metadata": {
    "colab": {
      "provenance": []
    },
    "kernelspec": {
      "name": "python3",
      "display_name": "Python 3"
    },
    "language_info": {
      "name": "python"
    }
  },
  "cells": [
    {
      "cell_type": "code",
      "source": [
        "from collections import defaultdict\n",
        "from typing import List, Set, Dict\n",
        "import math\n",
        "import copy"
      ],
      "metadata": {
        "id": "70qKeAaD7g0_"
      },
      "execution_count": 21,
      "outputs": []
    },
    {
      "cell_type": "code",
      "source": [
        "class Item:\n",
        "    def __init__(self, name):\n",
        "        self.name = name[0].upper()\n",
        "\n",
        "    def __repr__(self):\n",
        "        return f\"Item({self.name})\"\n",
        "\n",
        "    def __eq__(self, other):\n",
        "        if isinstance(other, Item):\n",
        "            return self.name == other.name\n",
        "        return False\n",
        "\n",
        "    def __ne__(self, other):\n",
        "        return not self.__eq__(other)\n",
        "\n",
        "    def __hash__(self):\n",
        "        return hash(self.name)"
      ],
      "metadata": {
        "id": "Kl-8s1gY7izX"
      },
      "execution_count": 22,
      "outputs": []
    },
    {
      "cell_type": "code",
      "source": [
        "class Itemset:\n",
        "    def __init__(self, items=\"\"):\n",
        "        items = \"\".join(set(items.upper()))\n",
        "        self.items = \"\".join(sorted(items))\n",
        "\n",
        "    def __repr__(self):\n",
        "        return f\"Itemset({self.items})\"\n",
        "\n",
        "    def __eq__(self, other):\n",
        "        if isinstance(other, Itemset):\n",
        "            return self.items == other.items\n",
        "        return False\n",
        "\n",
        "    def __ne__(self, other):\n",
        "        return not self.__eq__(other)\n",
        "\n",
        "    def __hash__(self):\n",
        "        return hash(self.items)\n",
        "\n",
        "    def __contains__(self, item):\n",
        "        if isinstance(item, Item):\n",
        "            return item.name in self.items\n",
        "        else:\n",
        "            raise ValueError()\n",
        "\n",
        "    def __iter__(self):\n",
        "        for item in self.items:\n",
        "            yield Item(item)\n",
        "\n",
        "    def __le__(self, other):\n",
        "        if isinstance(other, Itemset):\n",
        "            return set(self.items) <= set(other.items)\n",
        "        elif isinstance(other, Transaction):\n",
        "            return self <= other.itemset()\n",
        "        else:\n",
        "            raise ValueError()\n",
        "\n",
        "    def union(self, other):\n",
        "        if isinstance(other, Item):\n",
        "            self.items = Itemset(self.items + other.name).items\n",
        "        elif isinstance(other, Itemset):\n",
        "            self.items = Itemset(self.items + other.items).items\n",
        "        else:\n",
        "            raise ValueError()"
      ],
      "metadata": {
        "id": "5Sf6p9s67sbE"
      },
      "execution_count": 23,
      "outputs": []
    },
    {
      "cell_type": "code",
      "source": [
        "class Transaction:\n",
        "    def __init__(self, d={}):\n",
        "        self.__d = {}\n",
        "        if isinstance(d, dict):\n",
        "            for item, value in d.items():\n",
        "                if isinstance(item, Item) and isinstance(value, int):\n",
        "                    self.__d[item] = value\n",
        "                else:\n",
        "                    raise ValueError()\n",
        "        else:\n",
        "            raise ValueError()\n",
        "\n",
        "    def __repr__(self):\n",
        "        items_repr = ', '.join(f'{repr(item)}: {count}' for item, count in self.__d.items())\n",
        "        return f\"Transaction({items_repr})\"\n",
        "\n",
        "    def __getitem__(self, item):\n",
        "        if isinstance(item, Item):\n",
        "            return self.__d[item]\n",
        "        else:\n",
        "            raise ValueError()\n",
        "\n",
        "    def __setitem__(self, item, value):\n",
        "        if isinstance(item, Item) and isinstance(value, int):\n",
        "            self.__d[item] = value\n",
        "        else:\n",
        "            raise ValueError()\n",
        "\n",
        "    def __iter__(self):\n",
        "        return iter(self.__d.items())\n",
        "\n",
        "    def __contains__(self, item):\n",
        "        if isinstance(item, Item):\n",
        "            return item in self.__d\n",
        "        else:\n",
        "            raise ValueError()\n",
        "\n",
        "    def __le__(self, other):\n",
        "        if isinstance(other, Transaction):\n",
        "            return self.itemset() <= other.itemset()\n",
        "        else:\n",
        "            raise ValueError()\n",
        "\n",
        "    def items(self):\n",
        "        return list(self.__d.keys())\n",
        "\n",
        "    def itemset(self):\n",
        "        return Itemset(\"\".join(item.name for item in self.__d.keys()))"
      ],
      "metadata": {
        "id": "xOWfO-itID3L"
      },
      "execution_count": 24,
      "outputs": []
    },
    {
      "cell_type": "code",
      "source": [
        "class Database:\n",
        "    def __init__(self, transaction_table={}, external_utility_table={}):\n",
        "        self.transaction_table = {}\n",
        "        self.external_utility_table = {}\n",
        "\n",
        "        if isinstance(transaction_table, dict):\n",
        "            for tid, transaction in transaction_table.items():\n",
        "                if isinstance(tid, str) and isinstance(transaction, Transaction):\n",
        "                    self.transaction_table[tid] = transaction\n",
        "                else:\n",
        "                    raise ValueError()\n",
        "        else:\n",
        "            raise ValueError()\n",
        "\n",
        "        if isinstance(external_utility_table, dict):\n",
        "            for item, external_utility in external_utility_table.items():\n",
        "                if isinstance(item, Item) and isinstance(external_utility, int):\n",
        "                    self.external_utility_table[item] = external_utility\n",
        "                else:\n",
        "                    raise ValueError()\n",
        "        else:\n",
        "            raise ValueError()\n",
        "\n",
        "    def __repr__(self):\n",
        "        transaction_entries = '\\n    '.join(f'{repr(tid)}: {repr(transaction)}' for tid, transaction in self.transaction_table.items())\n",
        "        external_utility_entries = '\\n    '.join(f'{repr(item)}: {external_utility}' for item, external_utility in self.external_utility_table.items())\n",
        "\n",
        "        return (f\"Database(\\n\"\n",
        "                f\"  transaction_table={{\\n    {transaction_entries}\\n  }},\\n\"\n",
        "                f\"  external_utility_table={{\\n    {external_utility_entries}\\n  }}\\n\"\n",
        "                f\")\")\n",
        "\n",
        "    def __getitem__(self, tid):\n",
        "        if isinstance(tid, str):\n",
        "            return self.transaction_table[tid]\n",
        "        else:\n",
        "            raise ValueError()\n",
        "\n",
        "    def __setitem__(self, tid, transaction):\n",
        "        if isinstance(tid, str) and isinstance(transaction, Transaction):\n",
        "            self.transaction_table[tid] = transaction\n",
        "        else:\n",
        "            raise ValueError()\n",
        "\n",
        "    def __iter__(self):\n",
        "        return iter(self.transaction_table.items())\n",
        "\n",
        "    def tids(self):\n",
        "        return list(self.transaction_table.keys())\n",
        "\n",
        "    # Definition 1: Internal utility\n",
        "    def q(self, item, tid):\n",
        "        return self[tid][item]\n",
        "\n",
        "    # Definition 2: External utility\n",
        "    def p(self, item):\n",
        "        return self.external_utility_table[item]\n",
        "\n",
        "    def u(self, *args):\n",
        "        # Definition 3: Utility of an item in a transaction\n",
        "        if len(args) == 2 and isinstance(args[0], Item) and isinstance(args[1], str):\n",
        "            item, tid = args\n",
        "            return self.q(item, tid) * self.p(item)\n",
        "\n",
        "        # Definition 4: Utility of an itemset in a transaction\n",
        "        elif len(args) == 2 and isinstance(args[0], Itemset) and isinstance(args[1], str):\n",
        "            itemset, tid = args\n",
        "            if itemset <= self[tid]:\n",
        "                return sum(self.q(item, tid) * self.p(item) for item in itemset)\n",
        "            else:\n",
        "                raise ValueError(\"Itemset not found in transaction\")\n",
        "\n",
        "        # Definition 5: Utility of an itemset in the database\n",
        "        elif len(args) == 1 and isinstance(args[0], Itemset):\n",
        "            itemset = args[0]\n",
        "            s = 0\n",
        "            for tid, transaction in self.transaction_table.items():\n",
        "                if itemset <= transaction:\n",
        "                    s += sum(self.q(item, tid) * self.p(item) for item in itemset)\n",
        "            return s\n",
        "\n",
        "        else:\n",
        "            raise ValueError()\n",
        "\n",
        "    # Definition 6: Transaction utility\n",
        "    def tu(self, tid):\n",
        "        return sum(self.q(item, tid) * self.p(item) for item in self[tid].items())\n",
        "\n",
        "    # Definition 7: Total utility of the database\n",
        "    def TU(self):\n",
        "        return sum(self.tu(tid) for tid in self.transaction_table)"
      ],
      "metadata": {
        "id": "ogI3M4QcwevJ"
      },
      "execution_count": 25,
      "outputs": []
    },
    {
      "cell_type": "code",
      "source": [
        "class ULElem:\n",
        "    def __init__(self, TID=None, tns=None, item_utility=None):\n",
        "        self.TID = TID\n",
        "        self.tns = tns\n",
        "        self.item_utility = item_utility\n",
        "\n",
        "    def __repr__(self):\n",
        "        return f\"ULElem(TID={repr(self.TID)}, tns={repr(self.tns)}, item_utility={repr(self.item_utility)})\""
      ],
      "metadata": {
        "id": "wK9wKwoK7-Jg"
      },
      "execution_count": 26,
      "outputs": []
    },
    {
      "cell_type": "code",
      "source": [
        "class UTList:\n",
        "    def __init__(self, item_name: Item):\n",
        "        self.item_name = item_name\n",
        "        self.SINS = 0\n",
        "        self.sum_utility = 0\n",
        "        self.ULElems = []\n",
        "\n",
        "    def __repr__(self):\n",
        "        ulelems_repr = ',\\n    '.join(repr(ulelem) for ulelem in self.ULElems)\n",
        "        return (f\"UTList(\\n\"\n",
        "                f\"  item_name={repr(self.item_name)},\\n\"\n",
        "                f\"  SINS={self.SINS},\\n\"\n",
        "                f\"  sum_utility={self.sum_utility},\\n\"\n",
        "                f\"  ULElems=[\\n    {ulelems_repr}\\n  ]\\n\"\n",
        "                f\")\")\n",
        "\n",
        "def SINS(sensitive_item: Item, NS: Set[Itemset]) -> int:\n",
        "    SINS = sum(1 for itemset in NS if sensitive_item in itemset)\n",
        "    return SINS\n",
        "\n",
        "def tns(NS: Set[Itemset], transaction: Transaction) -> float:\n",
        "    NSI_num = sum(1 for itemset in NS if itemset <= transaction)\n",
        "    tns = 1 / (1 + NSI_num)\n",
        "    return tns"
      ],
      "metadata": {
        "id": "lJk6ACLc8Eu8"
      },
      "execution_count": 27,
      "outputs": []
    },
    {
      "cell_type": "code",
      "source": [
        "class UTLDic:\n",
        "    def __init__(self, D: Database, S: Set[Itemset], NS: Set[Itemset], delta: int):\n",
        "        self.D = D\n",
        "        self.S = S\n",
        "        self.NS = NS\n",
        "        self.delta = delta\n",
        "\n",
        "        self.__UTLDic = self.__construct_UTLDic()\n",
        "\n",
        "    def __construct_UTLDic(self) -> Dict[Item, UTList]:\n",
        "        # Initialize SItem\n",
        "        SItem = Itemset()\n",
        "\n",
        "        # Get union of all sensitive high-utility itemsets\n",
        "        for itemset in self.S:\n",
        "            SItem.union(itemset)\n",
        "\n",
        "        # Initialize UTLDic\n",
        "        utldic = {}\n",
        "        for item in SItem:\n",
        "            # Initialize UTList for each item\n",
        "            UTL = UTList(item)\n",
        "\n",
        "            # Calculate SINS for each item\n",
        "            UTL.SINS = SINS(item, self.NS)\n",
        "\n",
        "            utldic[item] = UTL\n",
        "\n",
        "        # Scan database D\n",
        "        for tid, transaction in self.D:\n",
        "            # Get set of sensitive items in the transaction\n",
        "            SI = set()\n",
        "            SI.update(*[itemset for itemset in self.S if itemset <= transaction])\n",
        "\n",
        "            # Construct UTList for each sensitive item\n",
        "            for item in SI:\n",
        "                ULE = ULElem()\n",
        "                ULE.TID = tid\n",
        "                ULE.item_utility = self.D.u(item, tid)\n",
        "                ULE.tns = tns(self.NS, transaction)\n",
        "                utldic[item].ULElems.append(ULE)\n",
        "                utldic[item].sum_utility += ULE.item_utility\n",
        "\n",
        "        return utldic\n",
        "\n",
        "    def __repr__(self):\n",
        "        utldic_repr = ',\\n  '.join(f'{repr(item)}: {repr(utlist)}' for item, utlist in self.__UTLDic.items())\n",
        "        return f\"UTLDic(\\n  {utldic_repr}\\n)\"\n",
        "\n",
        "    def __getitem__(self, item):\n",
        "        if isinstance(item, Item):\n",
        "            return self.__UTLDic[item]\n",
        "        else:\n",
        "            raise ValueError()\n",
        "\n",
        "    def __setitem__(self, item, utlist):\n",
        "        if isinstance(item, Item) and isinstance(utlist, UTList):\n",
        "            self.__UTLDic[item] = utlist\n",
        "        else:\n",
        "            raise ValueError()\n",
        "\n",
        "    def L(self, itemset: Itemset):\n",
        "        return set.intersection(*[set(elem.TID for elem in self[item].ULElems) for item in itemset])"
      ],
      "metadata": {
        "id": "G1_YIKaq8JOx"
      },
      "execution_count": 28,
      "outputs": []
    },
    {
      "cell_type": "code",
      "source": [
        "def hide_sensitive_high_utility_itemsets(utldic: UTLDic) -> UTLDic:\n",
        "        sanitized_utldic = copy.deepcopy(utldic)\n",
        "\n",
        "        # Sort S in descending order of u(Si) (Si in S)\n",
        "        S_sorted = sorted(sanitized_utldic.S, key=lambda x: sanitized_utldic.D.u(x), reverse=True)\n",
        "\n",
        "        for Si in S_sorted:\n",
        "            # Sort Si in ascending order of SINS(item) (item in Si)\n",
        "            Si_sorted = sorted(Si, key=lambda x: sanitized_utldic[x].SINS)\n",
        "\n",
        "            # Calculate l = L(Si) according to Definition 19\n",
        "            l = sanitized_utldic.L(Si)\n",
        "\n",
        "            # Calculate target utility to be reduced\n",
        "            target_util = sanitized_utldic.D.u(Si) - sanitized_utldic.delta + 1\n",
        "\n",
        "            while target_util > 0:\n",
        "                for item in Si_sorted:\n",
        "                    # Sort ULElems of UTlist order by tns desc and utility asc\n",
        "                    sanitized_utldic[item].ULElems.sort(key=lambda x: (-x.tns, x.item_utility))\n",
        "\n",
        "                    for elem in sanitized_utldic[item].ULElems:\n",
        "                        if (elem.TID in l) and (target_util > 0):\n",
        "                            reduced_utility = 0\n",
        "\n",
        "                            if elem.item_utility <= target_util:\n",
        "                                target_util -= elem.item_utility\n",
        "                                reduced_utility = elem.item_utility\n",
        "                                elem.item_utility = 0\n",
        "                            else:\n",
        "                                count = sanitized_utldic.D.q(item, elem.TID) - math.ceil(target_util / sanitized_utldic.D.p(item))\n",
        "                                reduced_utility = elem.item_utility - count * sanitized_utldic.D.p(item)\n",
        "                                elem.item_utility = count * sanitized_utldic.D.p(item)\n",
        "                                target_util = 0\n",
        "\n",
        "                            # update utldic[item].sum_utility\n",
        "                            sanitized_utldic[item].sum_utility -= reduced_utility\n",
        "\n",
        "        return sanitized_utldic"
      ],
      "metadata": {
        "id": "WLIdEvHGFLHW"
      },
      "execution_count": 29,
      "outputs": []
    },
    {
      "cell_type": "code",
      "source": [
        "transaction_table = {\n",
        "    'T1': Transaction({Item('C'): 7, Item('D'): 1, Item('E'): 1}),\n",
        "    'T2': Transaction({Item('A'): 1, Item('C'): 2, Item('E'): 2}),\n",
        "    'T3': Transaction({Item('B'): 6, Item('C'): 4, Item('D'): 3, Item('E'): 7}),\n",
        "    'T4': Transaction({Item('B'): 5, Item('C'): 3, Item('D'): 9}),\n",
        "    'T5': Transaction({Item('A'): 3, Item('C'): 10, Item('D'): 3}),\n",
        "    'T6': Transaction({Item('C'): 5, Item('E'): 9}),\n",
        "    'T7': Transaction({Item('A'): 6, Item('C'): 9, Item('D'): 2, Item('E'): 5}),\n",
        "    'T8': Transaction({Item('A'): 1, Item('B'): 6, Item('C'): 2, Item('D'): 5, Item('E'): 3})\n",
        "}\n",
        "\n",
        "external_utility_table = {Item('A'): 9, Item('B'): 11, Item('C'): 4, Item('D'): 6, Item('E'): 7}\n",
        "\n",
        "D = Database(transaction_table, external_utility_table)\n",
        "\n",
        "\n",
        "HUIs = {Itemset('ACDE'), Itemset('BCDE'), Itemset('BC'),\n",
        "        Itemset('ACD'), Itemset('BCE'), Itemset('CDE'),\n",
        "        Itemset('BE'), Itemset('BD'), Itemset('CE'),\n",
        "        Itemset('BDE'), Itemset('BCD'), Itemset('CD')}\n",
        "\n",
        "S = {Itemset('ACD'), Itemset('BC')}\n",
        "\n",
        "NS = HUIs - S\n",
        "\n",
        "delta = 200  # Minimum utility threshold"
      ],
      "metadata": {
        "id": "fB-Vl0BHUi4C"
      },
      "execution_count": 30,
      "outputs": []
    },
    {
      "cell_type": "markdown",
      "source": [
        "---"
      ],
      "metadata": {
        "id": "uzkzI_J7IfQO"
      }
    },
    {
      "cell_type": "markdown",
      "source": [
        "Kiểm tra độ chính xác của cột **tu** trong Table **1**"
      ],
      "metadata": {
        "id": "LefqJdLhIR0J"
      }
    },
    {
      "cell_type": "code",
      "source": [
        "D.tu('T1'), D.tu('T2'), D.tu('T3'), D.tu('T4'), D.tu('T5'), D.tu('T6'), D.tu('T7'), D.tu('T8')"
      ],
      "metadata": {
        "colab": {
          "base_uri": "https://localhost:8080/"
        },
        "id": "LjYRoHDmIFYh",
        "outputId": "6538feff-0fa3-4f60-851e-e7f0bd62484a"
      },
      "execution_count": 31,
      "outputs": [
        {
          "output_type": "execute_result",
          "data": {
            "text/plain": [
              "(41, 31, 149, 121, 85, 83, 137, 134)"
            ]
          },
          "metadata": {},
          "execution_count": 31
        }
      ]
    },
    {
      "cell_type": "markdown",
      "source": [
        "Kiểm tra độ chính xác của Table **3**"
      ],
      "metadata": {
        "id": "hwhzVUuZJX3M"
      }
    },
    {
      "cell_type": "code",
      "source": [
        "{itemset: D.u(itemset) for itemset in HUIs}"
      ],
      "metadata": {
        "colab": {
          "base_uri": "https://localhost:8080/"
        },
        "id": "_cKXji7RJlZ0",
        "outputId": "8f72d2fe-cdb8-42fd-ddfa-fe891b4486ff"
      },
      "execution_count": 32,
      "outputs": [
        {
          "output_type": "execute_result",
          "data": {
            "text/plain": [
              "{Itemset(BC): 223,\n",
              " Itemset(BE): 202,\n",
              " Itemset(BCD): 325,\n",
              " Itemset(CE): 305,\n",
              " Itemset(CD): 278,\n",
              " Itemset(CDE): 266,\n",
              " Itemset(BD): 289,\n",
              " Itemset(BCE): 226,\n",
              " Itemset(BCDE): 274,\n",
              " Itemset(BDE): 250,\n",
              " Itemset(ACD): 234,\n",
              " Itemset(ACDE): 205}"
            ]
          },
          "metadata": {},
          "execution_count": 32
        }
      ]
    },
    {
      "cell_type": "markdown",
      "source": [
        "Kiểm tra độ chính xác của Figure **4**"
      ],
      "metadata": {
        "id": "VN6C-yq4KZzT"
      }
    },
    {
      "cell_type": "code",
      "source": [
        "utldic = UTLDic(D, S, NS, delta)\n",
        "utldic"
      ],
      "metadata": {
        "id": "yoPxfSRWUnf8",
        "colab": {
          "base_uri": "https://localhost:8080/"
        },
        "outputId": "7fddcd89-5753-4cf7-be6b-c78eb44e71bc"
      },
      "execution_count": 33,
      "outputs": [
        {
          "output_type": "execute_result",
          "data": {
            "text/plain": [
              "UTLDic(\n",
              "  Item(A): UTList(\n",
              "  item_name=Item(A),\n",
              "  SINS=1,\n",
              "  sum_utility=90,\n",
              "  ULElems=[\n",
              "    ULElem(TID='T5', tns=0.5, item_utility=27),\n",
              "    ULElem(TID='T7', tns=0.2, item_utility=54),\n",
              "    ULElem(TID='T8', tns=0.09090909090909091, item_utility=9)\n",
              "  ]\n",
              "),\n",
              "  Item(B): UTList(\n",
              "  item_name=Item(B),\n",
              "  SINS=6,\n",
              "  sum_utility=187,\n",
              "  ULElems=[\n",
              "    ULElem(TID='T3', tns=0.1, item_utility=66),\n",
              "    ULElem(TID='T4', tns=0.25, item_utility=55),\n",
              "    ULElem(TID='T8', tns=0.09090909090909091, item_utility=66)\n",
              "  ]\n",
              "),\n",
              "  Item(C): UTList(\n",
              "  item_name=Item(C),\n",
              "  SINS=7,\n",
              "  sum_utility=112,\n",
              "  ULElems=[\n",
              "    ULElem(TID='T3', tns=0.1, item_utility=16),\n",
              "    ULElem(TID='T4', tns=0.25, item_utility=12),\n",
              "    ULElem(TID='T5', tns=0.5, item_utility=40),\n",
              "    ULElem(TID='T7', tns=0.2, item_utility=36),\n",
              "    ULElem(TID='T8', tns=0.09090909090909091, item_utility=8)\n",
              "  ]\n",
              "),\n",
              "  Item(D): UTList(\n",
              "  item_name=Item(D),\n",
              "  SINS=7,\n",
              "  sum_utility=60,\n",
              "  ULElems=[\n",
              "    ULElem(TID='T5', tns=0.5, item_utility=18),\n",
              "    ULElem(TID='T7', tns=0.2, item_utility=12),\n",
              "    ULElem(TID='T8', tns=0.09090909090909091, item_utility=30)\n",
              "  ]\n",
              ")\n",
              ")"
            ]
          },
          "metadata": {},
          "execution_count": 33
        }
      ]
    },
    {
      "cell_type": "markdown",
      "source": [
        "Kiểm tra độ chính xác của Figure **6**"
      ],
      "metadata": {
        "id": "qNXa9IwdKsMc"
      }
    },
    {
      "cell_type": "code",
      "source": [
        "sanitized_utldic = hide_sensitive_high_utility_itemsets(utldic)\n",
        "sanitized_utldic"
      ],
      "metadata": {
        "colab": {
          "base_uri": "https://localhost:8080/"
        },
        "id": "obd2WDe3KfRP",
        "outputId": "cf66d5f7-da09-487b-ab4c-fedb56107f03"
      },
      "execution_count": 34,
      "outputs": [
        {
          "output_type": "execute_result",
          "data": {
            "text/plain": [
              "UTLDic(\n",
              "  Item(A): UTList(\n",
              "  item_name=Item(A),\n",
              "  SINS=1,\n",
              "  sum_utility=54,\n",
              "  ULElems=[\n",
              "    ULElem(TID='T5', tns=0.5, item_utility=0),\n",
              "    ULElem(TID='T7', tns=0.2, item_utility=45),\n",
              "    ULElem(TID='T8', tns=0.09090909090909091, item_utility=9)\n",
              "  ]\n",
              "),\n",
              "  Item(B): UTList(\n",
              "  item_name=Item(B),\n",
              "  SINS=6,\n",
              "  sum_utility=154,\n",
              "  ULElems=[\n",
              "    ULElem(TID='T4', tns=0.25, item_utility=22),\n",
              "    ULElem(TID='T3', tns=0.1, item_utility=66),\n",
              "    ULElem(TID='T8', tns=0.09090909090909091, item_utility=66)\n",
              "  ]\n",
              "),\n",
              "  Item(C): UTList(\n",
              "  item_name=Item(C),\n",
              "  SINS=7,\n",
              "  sum_utility=112,\n",
              "  ULElems=[\n",
              "    ULElem(TID='T5', tns=0.5, item_utility=40),\n",
              "    ULElem(TID='T4', tns=0.25, item_utility=12),\n",
              "    ULElem(TID='T7', tns=0.2, item_utility=36),\n",
              "    ULElem(TID='T3', tns=0.1, item_utility=16),\n",
              "    ULElem(TID='T8', tns=0.09090909090909091, item_utility=8)\n",
              "  ]\n",
              "),\n",
              "  Item(D): UTList(\n",
              "  item_name=Item(D),\n",
              "  SINS=7,\n",
              "  sum_utility=60,\n",
              "  ULElems=[\n",
              "    ULElem(TID='T5', tns=0.5, item_utility=18),\n",
              "    ULElem(TID='T7', tns=0.2, item_utility=12),\n",
              "    ULElem(TID='T8', tns=0.09090909090909091, item_utility=30)\n",
              "  ]\n",
              ")\n",
              ")"
            ]
          },
          "metadata": {},
          "execution_count": 34
        }
      ]
    }
  ]
}